{
 "cells": [
  {
   "cell_type": "code",
   "execution_count": 112,
   "metadata": {},
   "outputs": [],
   "source": [
    "import pandas as pd\n",
    "import numpy as np\n",
    "import matplotlib.pyplot as plt\n",
    "from statsmodels.tsa.stattools import adfuller,kpss\n",
    "import statsmodels.api as sm\n",
    "from statsmodels.tsa.arima_model import ARIMA\n",
    "from sklearn.model_selection import TimeSeriesSplit\n",
    "from sklearn.metrics import mean_squared_error\n",
    "import xgboost as xgb"
   ]
  },
  {
   "cell_type": "code",
   "execution_count": 113,
   "metadata": {},
   "outputs": [],
   "source": [
    "df_sample = pd.read_csv('sample_9.csv')"
   ]
  },
  {
   "cell_type": "code",
   "execution_count": 114,
   "metadata": {},
   "outputs": [
    {
     "data": {
      "text/html": [
       "<div>\n",
       "<style scoped>\n",
       "    .dataframe tbody tr th:only-of-type {\n",
       "        vertical-align: middle;\n",
       "    }\n",
       "\n",
       "    .dataframe tbody tr th {\n",
       "        vertical-align: top;\n",
       "    }\n",
       "\n",
       "    .dataframe thead th {\n",
       "        text-align: right;\n",
       "    }\n",
       "</style>\n",
       "<table border=\"1\" class=\"dataframe\">\n",
       "  <thead>\n",
       "    <tr style=\"text-align: right;\">\n",
       "      <th></th>\n",
       "      <th>index</th>\n",
       "      <th>point_timestamp</th>\n",
       "      <th>point_value</th>\n",
       "    </tr>\n",
       "  </thead>\n",
       "  <tbody>\n",
       "    <tr>\n",
       "      <th>0</th>\n",
       "      <td>0</td>\n",
       "      <td>1997-01-01</td>\n",
       "      <td>3.45</td>\n",
       "    </tr>\n",
       "    <tr>\n",
       "      <th>1</th>\n",
       "      <td>1</td>\n",
       "      <td>1997-02-01</td>\n",
       "      <td>2.15</td>\n",
       "    </tr>\n",
       "    <tr>\n",
       "      <th>2</th>\n",
       "      <td>2</td>\n",
       "      <td>1997-03-01</td>\n",
       "      <td>1.89</td>\n",
       "    </tr>\n",
       "    <tr>\n",
       "      <th>3</th>\n",
       "      <td>3</td>\n",
       "      <td>1997-04-01</td>\n",
       "      <td>2.03</td>\n",
       "    </tr>\n",
       "    <tr>\n",
       "      <th>4</th>\n",
       "      <td>4</td>\n",
       "      <td>1997-05-01</td>\n",
       "      <td>2.25</td>\n",
       "    </tr>\n",
       "  </tbody>\n",
       "</table>\n",
       "</div>"
      ],
      "text/plain": [
       "   index point_timestamp  point_value\n",
       "0      0      1997-01-01         3.45\n",
       "1      1      1997-02-01         2.15\n",
       "2      2      1997-03-01         1.89\n",
       "3      3      1997-04-01         2.03\n",
       "4      4      1997-05-01         2.25"
      ]
     },
     "execution_count": 114,
     "metadata": {},
     "output_type": "execute_result"
    }
   ],
   "source": [
    "df_sample.rename(columns={'Unnamed: 0':'index'}, inplace=True)\n",
    "df_sample.head()"
   ]
  },
  {
   "cell_type": "code",
   "execution_count": 115,
   "metadata": {},
   "outputs": [
    {
     "data": {
      "text/html": [
       "<div>\n",
       "<style scoped>\n",
       "    .dataframe tbody tr th:only-of-type {\n",
       "        vertical-align: middle;\n",
       "    }\n",
       "\n",
       "    .dataframe tbody tr th {\n",
       "        vertical-align: top;\n",
       "    }\n",
       "\n",
       "    .dataframe thead th {\n",
       "        text-align: right;\n",
       "    }\n",
       "</style>\n",
       "<table border=\"1\" class=\"dataframe\">\n",
       "  <thead>\n",
       "    <tr style=\"text-align: right;\">\n",
       "      <th></th>\n",
       "      <th>point_timestamp</th>\n",
       "      <th>point_value</th>\n",
       "    </tr>\n",
       "  </thead>\n",
       "  <tbody>\n",
       "    <tr>\n",
       "      <th>0</th>\n",
       "      <td>1997-01-01</td>\n",
       "      <td>3.45</td>\n",
       "    </tr>\n",
       "    <tr>\n",
       "      <th>1</th>\n",
       "      <td>1997-02-01</td>\n",
       "      <td>2.15</td>\n",
       "    </tr>\n",
       "    <tr>\n",
       "      <th>2</th>\n",
       "      <td>1997-03-01</td>\n",
       "      <td>1.89</td>\n",
       "    </tr>\n",
       "    <tr>\n",
       "      <th>3</th>\n",
       "      <td>1997-04-01</td>\n",
       "      <td>2.03</td>\n",
       "    </tr>\n",
       "    <tr>\n",
       "      <th>4</th>\n",
       "      <td>1997-05-01</td>\n",
       "      <td>2.25</td>\n",
       "    </tr>\n",
       "  </tbody>\n",
       "</table>\n",
       "</div>"
      ],
      "text/plain": [
       "  point_timestamp  point_value\n",
       "0      1997-01-01         3.45\n",
       "1      1997-02-01         2.15\n",
       "2      1997-03-01         1.89\n",
       "3      1997-04-01         2.03\n",
       "4      1997-05-01         2.25"
      ]
     },
     "execution_count": 115,
     "metadata": {},
     "output_type": "execute_result"
    }
   ],
   "source": [
    "df_sample = df_sample.drop('index', axis=1)\n",
    "df_sample.head()"
   ]
  },
  {
   "cell_type": "code",
   "execution_count": 116,
   "metadata": {},
   "outputs": [
    {
     "name": "stdout",
     "output_type": "stream",
     "text": [
      "<class 'pandas.core.frame.DataFrame'>\n",
      "RangeIndex: 291 entries, 0 to 290\n",
      "Data columns (total 2 columns):\n",
      " #   Column           Non-Null Count  Dtype  \n",
      "---  ------           --------------  -----  \n",
      " 0   point_timestamp  291 non-null    object \n",
      " 1   point_value      291 non-null    float64\n",
      "dtypes: float64(1), object(1)\n",
      "memory usage: 4.7+ KB\n"
     ]
    }
   ],
   "source": [
    "#removing null values\n",
    "df_sample.dropna(axis = 0, inplace = True)\n",
    "df_sample.info()"
   ]
  },
  {
   "cell_type": "code",
   "execution_count": 117,
   "metadata": {},
   "outputs": [
    {
     "data": {
      "text/plain": [
       "(221, 2)"
      ]
     },
     "execution_count": 117,
     "metadata": {},
     "output_type": "execute_result"
    }
   ],
   "source": [
    "#removing duplicates\n",
    "df_sample.drop_duplicates(subset=\"point_value\", inplace=True)\n",
    "df_sample.shape"
   ]
  },
  {
   "cell_type": "code",
   "execution_count": 99,
   "metadata": {},
   "outputs": [
    {
     "data": {
      "text/html": [
       "<div>\n",
       "<style scoped>\n",
       "    .dataframe tbody tr th:only-of-type {\n",
       "        vertical-align: middle;\n",
       "    }\n",
       "\n",
       "    .dataframe tbody tr th {\n",
       "        vertical-align: top;\n",
       "    }\n",
       "\n",
       "    .dataframe thead th {\n",
       "        text-align: right;\n",
       "    }\n",
       "</style>\n",
       "<table border=\"1\" class=\"dataframe\">\n",
       "  <thead>\n",
       "    <tr style=\"text-align: right;\">\n",
       "      <th></th>\n",
       "      <th>point_value</th>\n",
       "    </tr>\n",
       "    <tr>\n",
       "      <th>point_timestamp</th>\n",
       "      <th></th>\n",
       "    </tr>\n",
       "  </thead>\n",
       "  <tbody>\n",
       "    <tr>\n",
       "      <th>1997-01-01</th>\n",
       "      <td>3.45</td>\n",
       "    </tr>\n",
       "    <tr>\n",
       "      <th>1997-02-01</th>\n",
       "      <td>2.15</td>\n",
       "    </tr>\n",
       "    <tr>\n",
       "      <th>1997-03-01</th>\n",
       "      <td>1.89</td>\n",
       "    </tr>\n",
       "    <tr>\n",
       "      <th>1997-04-01</th>\n",
       "      <td>2.03</td>\n",
       "    </tr>\n",
       "    <tr>\n",
       "      <th>1997-05-01</th>\n",
       "      <td>2.25</td>\n",
       "    </tr>\n",
       "  </tbody>\n",
       "</table>\n",
       "</div>"
      ],
      "text/plain": [
       "                 point_value\n",
       "point_timestamp             \n",
       "1997-01-01              3.45\n",
       "1997-02-01              2.15\n",
       "1997-03-01              1.89\n",
       "1997-04-01              2.03\n",
       "1997-05-01              2.25"
      ]
     },
     "execution_count": 99,
     "metadata": {},
     "output_type": "execute_result"
    }
   ],
   "source": [
    "#df_sample['date'] = pd.to_datetime(df_sample.date)\n",
    "df_sample.set_index('point_timestamp',inplace=True)\n",
    "df_sample.head(5)"
   ]
  },
  {
   "cell_type": "code",
   "execution_count": 118,
   "metadata": {},
   "outputs": [
    {
     "data": {
      "text/plain": [
       "Text(0.5, 0, 'Time')"
      ]
     },
     "execution_count": 118,
     "metadata": {},
     "output_type": "execute_result"
    },
    {
     "data": {
      "image/png": "[encoded data removed]",
      "text/plain": [
       "<Figure size 1000x400 with 1 Axes>"
      ]
     },
     "metadata": {},
     "output_type": "display_data"
    }
   ],
   "source": [
    "plt.figure(figsize=(10,4))\n",
    "plt.plot(df_sample.point_value)\n",
    "plt.title('Point_value over Time', fontsize=20)\n",
    "plt.ylabel('Point_value', fontsize=16)\n",
    "plt.xlabel('Time', fontsize=16)\n",
    "#for i in df_sample.point_timestamp:\n",
    " #   plt.axvline(pd.to_datetime(i), color='y', linestyle='-', alpha=0.2)"
   ]
  },
  {
   "cell_type": "code",
   "execution_count": 109,
   "metadata": {},
   "outputs": [],
   "source": [
    "#Seasonality Test\n",
    "def check_seasonality(df_data):\n",
    "    adf_result = adfuller(df_data['point_value'])\n",
    "    p_value = adf_result[1]\n",
    "\n",
    "    if p_value < 0.05:\n",
    "        print('The time series data is likely seasonal.')\n",
    "        adf_seasonal = 1\n",
    "    else:\n",
    "        print('The time series data is likely not seasonal.')\n",
    "        adf_seasonal = 0\n",
    "\n",
    "    print(adf_seasonal)\n",
    "\n",
    "    kpss_stat, p_value, lags, critical_values = kpss(df_data, regression='c')\n",
    "\n",
    "    # Interpret the results\n",
    "    print(f'KPSS Statistic: {kpss_stat}')\n",
    "    print(f'p-value: {p_value}')\n",
    "    print(f'Critical values: {critical_values}')\n",
    "\n",
    "    if p_value < 0.05:\n",
    "        print('Reject the null hypothesis. The data has seasonality.')\n",
    "        kpss_seasoanlity = 1\n",
    "    else:\n",
    "        print('Fail to reject the null hypothesis. The data does not have seasonality.')\n",
    "        kpss_seasoanlity = 0\n",
    "\n",
    "    if adf_seasonal == 1 and kpss_seasoanlity == 1:\n",
    "        print('The given Time Series data is seasonal')\n",
    "        return 1\n",
    "        \n",
    "    else:\n",
    "        return 0\n"
   ]
  },
  {
   "cell_type": "code",
   "execution_count": 110,
   "metadata": {},
   "outputs": [],
   "source": [
    "#stationarity test\n",
    "def check_stationarity(df_data):\n",
    "    result = adfuller(df_data['point_value'])\n",
    "    # print the test statistics and p-value\n",
    "    print(f'Test Statistic: {result[0]}')\n",
    "    print(f'p-value: {result[1]}')\n",
    "\n",
    "    # interpret the test results\n",
    "    if result[1] > 0.05:\n",
    "        adf_stationarity = 0\n",
    "        print('The data is not stationary.')\n",
    "    else:\n",
    "        adf_stationarity = 1\n",
    "        print('The data is stationary.')\n",
    "    \n",
    "    result_kpss = kpss(df_data['point_value'])\n",
    "\n",
    "    # print the KPSS test statistics and p-value\n",
    "    print('\\nKPSS Test:')\n",
    "    print(f'Test Statistic: {result_kpss[0]}')\n",
    "    print(f'p-value: {result_kpss[1]}')\n",
    "    # interpret the KPSS test results\n",
    "    if result_kpss[1] < 0.05:\n",
    "        kpss_stationarity = 0\n",
    "        print('The data is not stationary according to the KPSS test.')\n",
    "    else:\n",
    "        kpss_stationarity = 1\n",
    "        print('The data is stationary according to the KPSS test.')\n",
    "    \n",
    "    if kpss_stationarity == 1 or adf_stationarity == 1:\n",
    "        return 1\n",
    "    else:\n",
    "        return 0"
   ]
  },
  {
   "cell_type": "code",
   "execution_count": 111,
   "metadata": {},
   "outputs": [
    {
     "name": "stdout",
     "output_type": "stream",
     "text": [
      "The time series data is likely not seasonal.\n",
      "0\n",
      "KPSS Statistic: 0.42757008598227164\n",
      "p-value: 0.06527151466281395\n",
      "Critical values: {'10%': 0.347, '5%': 0.463, '2.5%': 0.574, '1%': 0.739}\n",
      "Fail to reject the null hypothesis. The data does not have seasonality.\n"
     ]
    },
    {
     "data": {
      "text/plain": [
       "0"
      ]
     },
     "execution_count": 111,
     "metadata": {},
     "output_type": "execute_result"
    }
   ],
   "source": [
    "check_seasonality(df_sample)"
   ]
  },
  {
   "cell_type": "code",
   "execution_count": 107,
   "metadata": {},
   "outputs": [
    {
     "name": "stdout",
     "output_type": "stream",
     "text": [
      "Test Statistic: -2.2221214974090127\n",
      "p-value: 0.1983148116706518\n",
      "The data is not stationary.\n",
      "\n",
      "KPSS Test:\n",
      "Test Statistic: 0.42757008598227164\n",
      "p-value: 0.06527151466281395\n",
      "The data is stationary according to the KPSS test.\n"
     ]
    },
    {
     "data": {
      "text/plain": [
       "1"
      ]
     },
     "execution_count": 107,
     "metadata": {},
     "output_type": "execute_result"
    }
   ],
   "source": [
    "check_stationarity(df_sample)"
   ]
  },
  {
   "cell_type": "code",
   "execution_count": 120,
   "metadata": {},
   "outputs": [],
   "source": [
    "def call_sarima(data):\n",
    "\n",
    "  ts_log, ts = transform(data['point_value'])\n",
    "  acf_vals, confint = sm.tsa.acf(data['point_value'], nlags=50, alpha=0.05)\n",
    "  pacf_vals = sm.tsa.pacf(data['point_value'], nlags=50)\n",
    "\n",
    "# find the lags where the ACF or PACF values are above the significance threshold\n",
    "  acf_lags = [(i+1) for i in range(len(acf_vals)) if abs(acf_vals[i]) >= confint[i, 1]]\n",
    "  pacf_lags = [(i+1) for i in range(len(pacf_vals)) if abs(pacf_vals[i]) >= confint[i, 1]]\n",
    "\n",
    "  print(acf_lags)\n",
    "  print(pacf_lags)\n",
    "\n",
    "  d = 0\n",
    "  df_diff = data.diff().dropna()\n",
    "  while True:\n",
    "      result = adfuller(df_diff['point_value'].diff().dropna())\n",
    "      pvalue = result[1]\n",
    "      if pvalue < 0.05:\n",
    "          break\n",
    "      d += 1\n",
    "      df_diff = df_diff.diff().dropna()\n",
    "\n",
    "  model = sm.tsa.statespace.SARIMAX(ts, order=(pacf_lags, d, acf_lags), seasonal_order=(pacf_lags, d, acf_lags,12))\n",
    "  result = model.fit()\n",
    "  print(result.summary())"
   ]
  },
  {
   "cell_type": "code",
   "execution_count": null,
   "metadata": {},
   "outputs": [],
   "source": [
    "call_sarima(df_sample)"
   ]
  },
  {
   "cell_type": "code",
   "execution_count": null,
   "metadata": {},
   "outputs": [],
   "source": [
    "from statsmodels.tsa.arima_model import ARIMA\n",
    "\n",
    "data = df_sample\n",
    "\n",
    "from statsmodels.tsa.stattools import adfuller\n",
    "\n",
    "result = adfuller(data['point_value'])\n",
    "print('ADF Statistic: %f' % result[0])\n",
    "print('p-value: %f' % result[1])\n",
    "print('Critical Values:')\n",
    "for key, value in result[4].items():\n",
    "    print('\\t%s: %.3f' % (key, value))\n",
    "    \n",
    "\n",
    "data_diff = data.diff()\n",
    "\n",
    "result = adfuller(data_diff['point_value'])\n",
    "print('ADF Statistic: %f' % result[0])\n",
    "print('p-value: %f' % result[1])\n",
    "print('Critical Values:')\n",
    "for key, value in result[4].items():\n",
    "    print('\\t%s: %.3f' % (key, value))\n",
    "    \n",
    "from statsmodels.graphics.tsaplots import plot_acf, plot_pacf\n",
    "\n",
    "plot_acf(data_diff)\n",
    "plot_pacf(data_diff)\n",
    "\n",
    "# Fit the ARIMA model\n",
    "model = ARIMA(data, order=(1,1,1))\n",
    "model_fit = model.fit()\n",
    "\n",
    "predictions = model_fit.predict()\n",
    "\n",
    "plt.plot(data)\n",
    "plt.plot(predictions, color='red')\n",
    "plt.title('ARIMA Predictions')\n",
    "plt.xlabel('Date')\n",
    "plt.ylabel('Value')\n",
    "plt.show()"
   ]
  },
  {
   "cell_type": "code",
   "execution_count": null,
   "metadata": {},
   "outputs": [],
   "source": [
    "freq = pd.infer_freq(data.index)\n",
    "    print(freq)\n",
    "    if(freq == 'M' or freq == 'MS'):\n",
    "        tscv = TimeSeriesSplit(n_splits=5)\n",
    "        for train_index, test_index in tscv.split(data):\n",
    "            X_train, X_test = data.iloc[train_index], data.iloc[test_index]\n",
    "            y_train, y_test = data.iloc[train_index]['point_value'], data.iloc[test_index]['point_value']\n",
    "\n",
    "            # Create an XGBoost model\n",
    "            xgb_model = xgb.XGBRegressor(objective=\"reg:squarederror\", random_state=42)\n",
    "\n",
    "            # Fit the model to the training data\n",
    "            xgb_model.fit(X_train, y_train)\n",
    "\n",
    "            # Use the model to make predictions on the test data\n",
    "            y_pred = xgb_model.predict(X_test)\n",
    "\n",
    "            # Calculate the mean squared error of the model's predictions\n",
    "            mse = mean_squared_error(y_test, y_pred)\n",
    "            print(\"Mean Squared Error:\", mse)\n",
    "            plt.figure()\n",
    "            plt.plot(X_train.index, y_train, label='Train')\n",
    "            plt.plot(X_test.index, y_test, label='Test')\n",
    "            plt.plot(X_test.index, y_pred, label='Predicted')\n",
    "            plt.legend()\n",
    "            plt.show()\n",
    "    \n",
    "    if(freq == 'D'):\n",
    "        daily_data = daily_data.resample('M').mean()\n",
    "\n",
    "        # Split the data into training and testing sets using time series cross-validation\n",
    "        tscv = TimeSeriesSplit(n_splits=5)\n",
    "        for fold, (train_index, test_index) in enumerate(tscv.split(daily_data)):\n",
    "            X_train, X_test = daily_data.iloc[train_index], daily_data.iloc[test_index]\n",
    "            y_train, y_test = daily_data.iloc[train_index]['point_value'], daily_data.iloc[test_index]['point_value']\n",
    "\n",
    "            # Create an XGBoost model\n",
    "            xgb_model = xgb.XGBRegressor(objective=\"reg:squarederror\", random_state=42)\n",
    "\n",
    "            # Fit the model to the training data\n",
    "            xgb_model.fit(X_train, y_train)\n",
    "\n",
    "            # Use the model to make predictions on the test data\n",
    "            y_pred = xgb_model.predict(X_test)\n",
    "\n",
    "            # Calculate the mean squared error of the model's predictions\n",
    "            mse = mean_squared_error(y_test, y_pred)\n",
    "            print(\"Fold {} Mean Squared Error: {}\".format(fold+1, mse))\n",
    "\n",
    "            # Plot the model's predictions\n",
    "            plt.figure()\n",
    "            plt.plot(X_train.index, y_train, label='Train')\n",
    "            plt.plot(X_test.index, y_test, label='Test')\n",
    "            plt.plot(X_test.index, y_pred, label='Predicted')\n",
    "            plt.legend()\n",
    "            plt.show()\n",
    "\n",
    "        return \"XG_BOOST\""
   ]
  }
 ],
 "metadata": {
  "kernelspec": {
   "display_name": "Python 3",
   "language": "python",
   "name": "python3"
  },
  "language_info": {
   "codemirror_mode": {
    "name": "ipython",
    "version": 3
   },
   "file_extension": ".py",
   "mimetype": "text/x-python",
   "name": "python",
   "nbconvert_exporter": "python",
   "pygments_lexer": "ipython3",
   "version": "3.10.5"
  },
  "orig_nbformat": 4
 },
 "nbformat": 4,
 "nbformat_minor": 2
}
